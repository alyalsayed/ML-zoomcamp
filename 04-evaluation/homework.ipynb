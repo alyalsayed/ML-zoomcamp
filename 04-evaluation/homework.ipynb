{
 "cells": [
  {
   "cell_type": "code",
   "execution_count": 30,
   "id": "607c2de8-04d3-4e23-94a6-0d1bc71a668a",
   "metadata": {},
   "outputs": [],
   "source": [
    "import pandas as pd\n",
    "from sklearn.model_selection import train_test_split, KFold\n",
    "from sklearn.feature_extraction import DictVectorizer\n",
    "from sklearn.linear_model import LogisticRegression\n",
    "from sklearn.metrics import roc_auc_score ,precision_score, recall_score\n",
    "import numpy as np\n",
    "import matplotlib.pyplot as plt\n"
   ]
  },
  {
   "cell_type": "code",
   "execution_count": 3,
   "id": "996bd097-ee59-4826-983b-c2a41d4b6eee",
   "metadata": {},
   "outputs": [
    {
     "data": {
      "text/html": [
       "<div>\n",
       "<style scoped>\n",
       "    .dataframe tbody tr th:only-of-type {\n",
       "        vertical-align: middle;\n",
       "    }\n",
       "\n",
       "    .dataframe tbody tr th {\n",
       "        vertical-align: top;\n",
       "    }\n",
       "\n",
       "    .dataframe thead th {\n",
       "        text-align: right;\n",
       "    }\n",
       "</style>\n",
       "<table border=\"1\" class=\"dataframe\">\n",
       "  <thead>\n",
       "    <tr style=\"text-align: right;\">\n",
       "      <th></th>\n",
       "      <th>lead_source</th>\n",
       "      <th>industry</th>\n",
       "      <th>number_of_courses_viewed</th>\n",
       "      <th>annual_income</th>\n",
       "      <th>employment_status</th>\n",
       "      <th>location</th>\n",
       "      <th>interaction_count</th>\n",
       "      <th>lead_score</th>\n",
       "      <th>converted</th>\n",
       "    </tr>\n",
       "  </thead>\n",
       "  <tbody>\n",
       "    <tr>\n",
       "      <th>0</th>\n",
       "      <td>paid_ads</td>\n",
       "      <td>NaN</td>\n",
       "      <td>1</td>\n",
       "      <td>79450.0</td>\n",
       "      <td>unemployed</td>\n",
       "      <td>south_america</td>\n",
       "      <td>4</td>\n",
       "      <td>0.94</td>\n",
       "      <td>1</td>\n",
       "    </tr>\n",
       "    <tr>\n",
       "      <th>1</th>\n",
       "      <td>social_media</td>\n",
       "      <td>retail</td>\n",
       "      <td>1</td>\n",
       "      <td>46992.0</td>\n",
       "      <td>employed</td>\n",
       "      <td>south_america</td>\n",
       "      <td>1</td>\n",
       "      <td>0.80</td>\n",
       "      <td>0</td>\n",
       "    </tr>\n",
       "    <tr>\n",
       "      <th>2</th>\n",
       "      <td>events</td>\n",
       "      <td>healthcare</td>\n",
       "      <td>5</td>\n",
       "      <td>78796.0</td>\n",
       "      <td>unemployed</td>\n",
       "      <td>australia</td>\n",
       "      <td>3</td>\n",
       "      <td>0.69</td>\n",
       "      <td>1</td>\n",
       "    </tr>\n",
       "    <tr>\n",
       "      <th>3</th>\n",
       "      <td>paid_ads</td>\n",
       "      <td>retail</td>\n",
       "      <td>2</td>\n",
       "      <td>83843.0</td>\n",
       "      <td>NaN</td>\n",
       "      <td>australia</td>\n",
       "      <td>1</td>\n",
       "      <td>0.87</td>\n",
       "      <td>0</td>\n",
       "    </tr>\n",
       "    <tr>\n",
       "      <th>4</th>\n",
       "      <td>referral</td>\n",
       "      <td>education</td>\n",
       "      <td>3</td>\n",
       "      <td>85012.0</td>\n",
       "      <td>self_employed</td>\n",
       "      <td>europe</td>\n",
       "      <td>3</td>\n",
       "      <td>0.62</td>\n",
       "      <td>1</td>\n",
       "    </tr>\n",
       "  </tbody>\n",
       "</table>\n",
       "</div>"
      ],
      "text/plain": [
       "    lead_source    industry  number_of_courses_viewed  annual_income  \\\n",
       "0      paid_ads         NaN                         1        79450.0   \n",
       "1  social_media      retail                         1        46992.0   \n",
       "2        events  healthcare                         5        78796.0   \n",
       "3      paid_ads      retail                         2        83843.0   \n",
       "4      referral   education                         3        85012.0   \n",
       "\n",
       "  employment_status       location  interaction_count  lead_score  converted  \n",
       "0        unemployed  south_america                  4        0.94          1  \n",
       "1          employed  south_america                  1        0.80          0  \n",
       "2        unemployed      australia                  3        0.69          1  \n",
       "3               NaN      australia                  1        0.87          0  \n",
       "4     self_employed         europe                  3        0.62          1  "
      ]
     },
     "execution_count": 3,
     "metadata": {},
     "output_type": "execute_result"
    }
   ],
   "source": [
    "#  Load data\n",
    "url = \"https://raw.githubusercontent.com/alexeygrigorev/datasets/master/course_lead_scoring.csv\"\n",
    "df = pd.read_csv(url)\n",
    "df.head()"
   ]
  },
  {
   "cell_type": "code",
   "execution_count": 4,
   "id": "a3a996c1-9bc8-43bc-8cc4-a0d2ddaceb11",
   "metadata": {},
   "outputs": [
    {
     "name": "stdout",
     "output_type": "stream",
     "text": [
      "<class 'pandas.core.frame.DataFrame'>\n",
      "RangeIndex: 1462 entries, 0 to 1461\n",
      "Data columns (total 9 columns):\n",
      " #   Column                    Non-Null Count  Dtype  \n",
      "---  ------                    --------------  -----  \n",
      " 0   lead_source               1334 non-null   object \n",
      " 1   industry                  1328 non-null   object \n",
      " 2   number_of_courses_viewed  1462 non-null   int64  \n",
      " 3   annual_income             1281 non-null   float64\n",
      " 4   employment_status         1362 non-null   object \n",
      " 5   location                  1399 non-null   object \n",
      " 6   interaction_count         1462 non-null   int64  \n",
      " 7   lead_score                1462 non-null   float64\n",
      " 8   converted                 1462 non-null   int64  \n",
      "dtypes: float64(2), int64(3), object(4)\n",
      "memory usage: 102.9+ KB\n"
     ]
    }
   ],
   "source": [
    "df.info()"
   ]
  },
  {
   "cell_type": "code",
   "execution_count": 6,
   "id": "ff570726-71c3-4fba-9fe1-b2f4e8aa7122",
   "metadata": {},
   "outputs": [],
   "source": [
    "def impute_missing_values(df: pd.DataFrame) -> pd.DataFrame:\n",
    "    \"\"\"\n",
    "    Imputes missing values:\n",
    "    - For categorical columns: replace with 'NA'\n",
    "    - For numerical columns: replace with 0.0\n",
    "    \"\"\"\n",
    "    df_copy = df.copy()\n",
    "    \n",
    "    print(\"\\n🔹 Before imputation:\")\n",
    "    print(df_copy.isnull().sum()[df_copy.isnull().sum() > 0])\n",
    "    \n",
    "    for col in df_copy.columns:\n",
    "        if df_copy[col].dtype == 'object':\n",
    "            df_copy[col] = df_copy[col].fillna('NA')\n",
    "        else:\n",
    "            df_copy[col] = df_copy[col].fillna(0.0)\n",
    "    \n",
    "    print(\"\\n✅ After imputation (should show 0 missing values):\")\n",
    "    print(df_copy.isnull().sum().sum(), \"missing values remaining\\n\")\n",
    "    \n",
    "    return df_copy"
   ]
  },
  {
   "cell_type": "code",
   "execution_count": 7,
   "id": "af39a904-27f4-4d31-9347-b49a67db3d00",
   "metadata": {},
   "outputs": [
    {
     "name": "stdout",
     "output_type": "stream",
     "text": [
      "\n",
      "🔹 Before imputation:\n",
      "lead_source          128\n",
      "industry             134\n",
      "annual_income        181\n",
      "employment_status    100\n",
      "location              63\n",
      "dtype: int64\n",
      "\n",
      "✅ After imputation (should show 0 missing values):\n",
      "0 missing values remaining\n",
      "\n"
     ]
    }
   ],
   "source": [
    "# Impute missing values\n",
    "df = impute_missing_values(df)"
   ]
  },
  {
   "cell_type": "code",
   "execution_count": 9,
   "id": "b7da3e9a-d1a2-4ead-a47e-b22839f061ea",
   "metadata": {},
   "outputs": [
    {
     "name": "stdout",
     "output_type": "stream",
     "text": [
      "Features shape: (1462, 8)\n",
      "Target shape: (1462,)\n",
      "Target distribution:\n",
      " converted\n",
      "1    0.619\n",
      "0    0.381\n",
      "Name: proportion, dtype: float64\n"
     ]
    }
   ],
   "source": [
    "# Define target and features\n",
    "X = df.drop('converted', axis=1)\n",
    "y = df['converted']\n",
    "\n",
    "print(\"Features shape:\", X.shape)\n",
    "print(\"Target shape:\", y.shape)\n",
    "print(\"Target distribution:\\n\", y.value_counts(normalize=True).round(3))"
   ]
  },
  {
   "cell_type": "code",
   "execution_count": 10,
   "id": "8424e2d4-826d-4594-8a06-531c7c4819a6",
   "metadata": {},
   "outputs": [
    {
     "name": "stdout",
     "output_type": "stream",
     "text": [
      "\n",
      "✂️ Splitting data (60% train, 20% val, 20% test)...\n",
      "\n",
      "Train size: 877\n",
      "Validation size: 292\n",
      "Test size: 293\n"
     ]
    }
   ],
   "source": [
    "# Split into train, validation, and test sets\n",
    "# ====================================================\n",
    "print(\"\\n✂️ Splitting data (60% train, 20% val, 20% test)...\\n\")\n",
    "\n",
    "X_train, X_temp, y_train, y_temp = train_test_split(X, y, test_size=0.4, random_state=1)\n",
    "X_val, X_test, y_val, y_test = train_test_split(X_temp, y_temp, test_size=0.5, random_state=1)\n",
    "\n",
    "print(f\"Train size: {X_train.shape[0]}\")\n",
    "print(f\"Validation size: {X_val.shape[0]}\")\n",
    "print(f\"Test size: {X_test.shape[0]}\")\n"
   ]
  },
  {
   "cell_type": "code",
   "execution_count": 11,
   "id": "09eb3da8-be3a-4400-8e80-fd814d9aea77",
   "metadata": {},
   "outputs": [],
   "source": [
    "def compute_feature_auc_scores(X, y, features):\n",
    "    \"\"\"\n",
    "    Computes ROC AUC score for each numerical feature.\n",
    "    If AUC < 0.5, the feature is inverted.\n",
    "    Returns a dictionary of feature -> AUC.\n",
    "    \"\"\"\n",
    "    auc_scores = {}\n",
    "    for feature in features:\n",
    "        auc = roc_auc_score(y, X[feature])\n",
    "        if auc < 0.5:\n",
    "            auc = roc_auc_score(y, -X[feature])\n",
    "        auc_scores[feature] = auc\n",
    "    return auc_scores"
   ]
  },
  {
   "cell_type": "code",
   "execution_count": 12,
   "id": "02093c03-dc68-4761-aabb-08ff04f16d8b",
   "metadata": {},
   "outputs": [
    {
     "name": "stdout",
     "output_type": "stream",
     "text": [
      "AUC scores per feature:\n",
      "lead_score                     AUC = 0.6111\n",
      "number_of_courses_viewed       AUC = 0.7652\n",
      "interaction_count              AUC = 0.7272\n",
      "annual_income                  AUC = 0.5446\n",
      "\n",
      "🏆 Best numerical feature by ROC AUC: number_of_courses_viewed\n",
      "\n"
     ]
    }
   ],
   "source": [
    "numerical_features = ['lead_score', 'number_of_courses_viewed', 'interaction_count', 'annual_income']\n",
    "auc_scores = compute_feature_auc_scores(X_train, y_train, numerical_features)\n",
    "\n",
    "print(\"AUC scores per feature:\")\n",
    "for feat, auc in auc_scores.items():\n",
    "    print(f\"{feat:30s} AUC = {auc:.4f}\")\n",
    "\n",
    "best_feature = max(auc_scores, key=auc_scores.get)\n",
    "print(f\"\\n🏆 Best numerical feature by ROC AUC: {best_feature}\\n\")"
   ]
  },
  {
   "cell_type": "code",
   "execution_count": 15,
   "id": "dedeefa2-80f1-4827-9d9d-54f87616fef2",
   "metadata": {},
   "outputs": [
    {
     "name": "stdout",
     "output_type": "stream",
     "text": [
      "\n",
      "✅ One-hot encoding complete.\n",
      "Encoded train shape: (877, 31)\n",
      "Encoded validation shape: (292, 31)\n"
     ]
    }
   ],
   "source": [
    "dv = DictVectorizer(sparse=False)\n",
    "\n",
    "# Convert to list of dictionaries\n",
    "train_dicts = X_train.to_dict(orient='records')\n",
    "val_dicts = X_val.to_dict(orient='records')\n",
    "\n",
    "X_train_encoded = dv.fit_transform(train_dicts)\n",
    "X_val_encoded = dv.transform(val_dicts)\n",
    "\n",
    "print(\"\\n✅ One-hot encoding complete.\")\n",
    "print(\"Encoded train shape:\", X_train_encoded.shape)\n",
    "print(\"Encoded validation shape:\", X_val_encoded.shape)"
   ]
  },
  {
   "cell_type": "code",
   "execution_count": 16,
   "id": "45702ac6-7c0a-46f4-907b-33ea91217f4f",
   "metadata": {},
   "outputs": [
    {
     "name": "stdout",
     "output_type": "stream",
     "text": [
      "\n",
      "✅ Model training finished.\n"
     ]
    }
   ],
   "source": [
    "# Train Logistic Regression\n",
    "model = LogisticRegression(solver='liblinear', C=1.0, max_iter=1000)\n",
    "model.fit(X_train_encoded, y_train)\n",
    "\n",
    "print(\"\\n✅ Model training finished.\")"
   ]
  },
  {
   "cell_type": "code",
   "execution_count": 17,
   "id": "ae0ee38d-67a7-4f2b-9a58-6dd6e328e9c6",
   "metadata": {},
   "outputs": [
    {
     "name": "stdout",
     "output_type": "stream",
     "text": [
      "\n",
      "📈 Validation ROC AUC = 0.794\n"
     ]
    }
   ],
   "source": [
    "# Evaluate ROC AUC on validation set\n",
    "\n",
    "y_val_pred = model.predict_proba(X_val_encoded)[:, 1]\n",
    "auc = roc_auc_score(y_val, y_val_pred)\n",
    "\n",
    "print(f\"\\n📈 Validation ROC AUC = {auc:.3f}\")"
   ]
  },
  {
   "cell_type": "code",
   "execution_count": 22,
   "id": "ac0b85d2-27f4-415e-84db-6a6616e3fdaf",
   "metadata": {},
   "outputs": [],
   "source": [
    "#  Predict probabilities on validation set\n",
    "y_val_pred = model.predict_proba(X_val_encoded)[:, 1]\n",
    "\n",
    "# Evaluate precision & recall across thresholds\n",
    "thresholds = np.arange(0.0, 1.01, 0.01)\n",
    "precisions = []\n",
    "recalls = []\n",
    "\n",
    "for t in thresholds:\n",
    "    preds = (y_val_pred >= t).astype(int)\n",
    "    precisions.append(precision_score(y_val, preds, zero_division=0))\n",
    "    recalls.append(recall_score(y_val, preds, zero_division=0))\n",
    "\n"
   ]
  },
  {
   "cell_type": "code",
   "execution_count": 25,
   "id": "a0f1fb58-f654-434d-bcf5-b1d0aa780630",
   "metadata": {},
   "outputs": [
    {
     "data": {
      "image/png": "[encoded data removed]",
      "text/plain": [
       "<Figure size 800x500 with 1 Axes>"
      ]
     },
     "metadata": {},
     "output_type": "display_data"
    }
   ],
   "source": [
    "# Plot curves\n",
    "plt.figure(figsize=(8,5))\n",
    "plt.plot(thresholds, precisions, label='Precision', lw=2)\n",
    "plt.plot(thresholds, recalls, label='Recall', lw=2)\n",
    "plt.xlabel('Threshold')\n",
    "plt.ylabel('Score')\n",
    "plt.title('Precision and Recall vs Threshold')\n",
    "plt.legend()\n",
    "plt.grid(True)\n",
    "plt.show()\n",
    "\n"
   ]
  },
  {
   "cell_type": "code",
   "execution_count": 26,
   "id": "3abff9d9-31fb-4422-9bd6-6690ea6fe7e3",
   "metadata": {},
   "outputs": [
    {
     "name": "stdout",
     "output_type": "stream",
     "text": [
      "📍 Precision ≈ Recall at threshold = 0.590\n"
     ]
    }
   ],
   "source": [
    "# Find intersection (closest point where Precision ≈ Recall)\n",
    "diff = np.abs(np.array(precisions) - np.array(recalls))\n",
    "intersection_index = diff.argmin()\n",
    "intersection_threshold = thresholds[intersection_index]\n",
    "\n",
    "print(f\"📍 Precision ≈ Recall at threshold = {intersection_threshold:.3f}\")"
   ]
  },
  {
   "cell_type": "code",
   "execution_count": 27,
   "id": "f743ae25-3591-4526-9de3-52c26dec0e2c",
   "metadata": {},
   "outputs": [],
   "source": [
    "# Initialize lists\n",
    "precisions, recalls, f1_scores = [], [], []\n",
    "\n",
    "# Compute P, R, F1 at each threshold\n",
    "for t in thresholds:\n",
    "    preds = (y_val_pred >= t).astype(int)\n",
    "    P = precision_score(y_val, preds, zero_division=0)\n",
    "    R = recall_score(y_val, preds, zero_division=0)\n",
    "    F1 = 0 if (P + R) == 0 else 2 * P * R / (P + R)\n",
    "    \n",
    "    precisions.append(P)\n",
    "    recalls.append(R)\n",
    "    f1_scores.append(F1)\n",
    "\n"
   ]
  },
  {
   "cell_type": "code",
   "execution_count": 28,
   "id": "9a7df24b-62d2-4ebd-a9c4-17fb12fbf29d",
   "metadata": {},
   "outputs": [
    {
     "data": {
      "image/png": "[encoded data removed]",
      "text/plain": [
       "<Figure size 800x500 with 1 Axes>"
      ]
     },
     "metadata": {},
     "output_type": "display_data"
    },
    {
     "name": "stdout",
     "output_type": "stream",
     "text": [
      "🏆 Best F1 = 0.848 at threshold = 0.470\n"
     ]
    }
   ],
   "source": [
    "# Find threshold with max F1\n",
    "best_index = np.argmax(f1_scores)\n",
    "best_threshold = thresholds[best_index]\n",
    "best_f1 = f1_scores[best_index]\n",
    "\n",
    "# Plot F1 curve\n",
    "plt.figure(figsize=(8,5))\n",
    "plt.plot(thresholds, f1_scores, label='F1 Score', color='purple', lw=2)\n",
    "plt.xlabel('Threshold')\n",
    "plt.ylabel('F1 Score')\n",
    "plt.title('F1 Score vs Threshold')\n",
    "plt.grid(True)\n",
    "plt.legend()\n",
    "plt.show()\n",
    "\n",
    "print(f\"🏆 Best F1 = {best_f1:.3f} at threshold = {best_threshold:.3f}\")"
   ]
  },
  {
   "cell_type": "code",
   "execution_count": 31,
   "id": "544c9794-83b8-4159-b700-5624777a44a9",
   "metadata": {},
   "outputs": [
    {
     "name": "stdout",
     "output_type": "stream",
     "text": [
      "\n",
      "🔹 Performing 5-Fold Cross Validation...\n",
      "\n",
      "===== Fold 1 =====\n",
      "AUC for Fold 1: 0.8117\n",
      "\n",
      "===== Fold 2 =====\n",
      "AUC for Fold 2: 0.8232\n",
      "\n",
      "===== Fold 3 =====\n",
      "AUC for Fold 3: 0.8364\n",
      "\n",
      "===== Fold 4 =====\n",
      "AUC for Fold 4: 0.8392\n",
      "\n",
      "===== Fold 5 =====\n",
      "AUC for Fold 5: 0.8283\n"
     ]
    }
   ],
   "source": [
    "# ====================================================\n",
    "# 5-Fold Cross Validation\n",
    "# ====================================================\n",
    "print(\"\\n🔹 Performing 5-Fold Cross Validation...\")\n",
    "\n",
    "# Use the full training set (X_train, y_train)\n",
    "train_full_dicts = X_train.to_dict(orient='records')\n",
    "X_full = dv.fit_transform(train_full_dicts)\n",
    "y_full = y_train.values\n",
    "\n",
    "# Initialize KFold\n",
    "kfold = KFold(n_splits=5, shuffle=True, random_state=1)\n",
    "aucs = []\n",
    "\n",
    "for fold, (train_idx, val_idx) in enumerate(kfold.split(X_full), 1):\n",
    "    print(f\"\\n===== Fold {fold} =====\")\n",
    "    X_t, X_v = X_full[train_idx], X_full[val_idx]\n",
    "    y_t, y_v = y_full[train_idx], y_full[val_idx]\n",
    "\n",
    "    # Train model\n",
    "    model = LogisticRegression(solver='liblinear', C=1.0, max_iter=1000)\n",
    "    model.fit(X_t, y_t)\n",
    "\n",
    "    # Predict probabilities\n",
    "    y_pred = model.predict_proba(X_v)[:, 1]\n",
    "\n",
    "    # Compute AUC\n",
    "    auc = roc_auc_score(y_v, y_pred)\n",
    "    aucs.append(auc)\n",
    "    print(f\"AUC for Fold {fold}: {auc:.4f}\")\n"
   ]
  },
  {
   "cell_type": "code",
   "execution_count": 32,
   "id": "f9fc94c2-4139-434e-b3bc-07090386f9ae",
   "metadata": {},
   "outputs": [
    {
     "name": "stdout",
     "output_type": "stream",
     "text": [
      "\n",
      "🔹 Final Cross-Validation Results\n",
      "AUCs across folds: [0.8117 0.8232 0.8364 0.8392 0.8283]\n",
      "Mean AUC: 0.8278\n",
      "Standard Deviation of AUC: 0.0098\n"
     ]
    }
   ],
   "source": [
    "\n",
    "# ====================================================\n",
    "# Final Results\n",
    "# ====================================================\n",
    "print(\"\\n🔹 Final Cross-Validation Results\")\n",
    "print(\"AUCs across folds:\", np.round(aucs, 4))\n",
    "print(\"Mean AUC:\", np.mean(aucs).round(4))\n",
    "print(\"Standard Deviation of AUC:\", np.std(aucs).round(4))"
   ]
  },
  {
   "cell_type": "code",
   "execution_count": 33,
   "id": "3e02ce79-d1d4-4968-8d75-668d9b4c15f0",
   "metadata": {},
   "outputs": [
    {
     "name": "stdout",
     "output_type": "stream",
     "text": [
      "\n",
      "🔹 Performing 5-Fold CV for Hyperparameter Tuning\n",
      "\n",
      "===== Testing C = 1e-06 =====\n"
     ]
    },
    {
     "ename": "KeyError",
     "evalue": "'[6, 9, 10, 12, 27, 30, 35, 37, 41, 48, 51, 53, 58, 62, 67, 75, 76, 78, 80, 83, 87, 88, 91, 98, 99, 104, 108, 115, 125, 126, 131, 133, 134, 135, 139, 140, 142, 156, 158, 159, 163, 165, 167, 169, 177, 180, 186, 188, 190, 191, 198, 200, 204, 207, 208, 211, 215, 220, 226, 227, 228, 231, 234, 236, 237, 239, 250, 258, 259, 260, 264, 267, 268, 270, 274, 275, 280, 283, 284, 288, 292, 299, 302, 303, 304, 306, 310, 311, 315, 321, 323, 325, 329, 330, 331, 335, 336, 345, 347, 348, 349, 350, 351, 375, 382, 383, 386, 390, 392, 393, 395, 399, 400, 401, 403, 404, 407, 409, 414, 418, 419, 421, 424, 426, 432, 442, 452, 453, 460, 462, 471, 473, 478, 480, 481, 487, 490, 491, 495, 503, 509, 512, 520, 521, 525, 527, 528, 529, 531, 534, 535, 536, 537, 538, 541, 547, 553, 556, 559, 561, 571, 572, 573, 575, 577, 579, 581, 584, 587, 593, 597, 598, 599, 614, 620, 622, 628, 632, 638, 639, 647, 653, 654, 659, 660, 661, 663, 664, 674, 675, 679, 680, 693, 694, 697, 708, 709, 713, 718, 720, 724, 725, 729, 731, 735, 736, 737, 742, 745, 746, 748, 752, 754, 755, 757, 763, 764, 765, 767, 768, 771, 772, 776, 777, 778, 782, 785, 786, 798, 809, 810, 812, 815, 819, 820, 821, 823, 824, 826, 827, 830, 833, 841, 845, 846, 851, 852, 853, 855, 859, 860, 864, 867, 872, 876] not in index'",
     "output_type": "error",
     "traceback": [
      "\u001b[31m---------------------------------------------------------------------------\u001b[39m",
      "\u001b[31mKeyError\u001b[39m                                  Traceback (most recent call last)",
      "\u001b[36mCell\u001b[39m\u001b[36m \u001b[39m\u001b[32mIn[33]\u001b[39m\u001b[32m, line 14\u001b[39m\n\u001b[32m     12\u001b[39m \u001b[38;5;28;01mfor\u001b[39;00m fold, (train_idx, val_idx) \u001b[38;5;129;01min\u001b[39;00m \u001b[38;5;28menumerate\u001b[39m(kfold.split(X_train_encoded), \u001b[32m1\u001b[39m):\n\u001b[32m     13\u001b[39m     X_t, X_v = X_train_encoded[train_idx], X_train_encoded[val_idx]\n\u001b[32m---> \u001b[39m\u001b[32m14\u001b[39m     y_t, y_v = \u001b[43my_train\u001b[49m\u001b[43m[\u001b[49m\u001b[43mtrain_idx\u001b[49m\u001b[43m]\u001b[49m, y_train[val_idx]\n\u001b[32m     16\u001b[39m     model = LogisticRegression(solver=\u001b[33m'\u001b[39m\u001b[33mliblinear\u001b[39m\u001b[33m'\u001b[39m, C=C, max_iter=\u001b[32m1000\u001b[39m)\n\u001b[32m     17\u001b[39m     model.fit(X_t, y_t)\n",
      "\u001b[36mFile \u001b[39m\u001b[32mD:\\python\\Lib\\site-packages\\pandas\\core\\series.py:1162\u001b[39m, in \u001b[36mSeries.__getitem__\u001b[39m\u001b[34m(self, key)\u001b[39m\n\u001b[32m   1159\u001b[39m     key = np.asarray(key, dtype=\u001b[38;5;28mbool\u001b[39m)\n\u001b[32m   1160\u001b[39m     \u001b[38;5;28;01mreturn\u001b[39;00m \u001b[38;5;28mself\u001b[39m._get_rows_with_mask(key)\n\u001b[32m-> \u001b[39m\u001b[32m1162\u001b[39m \u001b[38;5;28;01mreturn\u001b[39;00m \u001b[38;5;28;43mself\u001b[39;49m\u001b[43m.\u001b[49m\u001b[43m_get_with\u001b[49m\u001b[43m(\u001b[49m\u001b[43mkey\u001b[49m\u001b[43m)\u001b[49m\n",
      "\u001b[36mFile \u001b[39m\u001b[32mD:\\python\\Lib\\site-packages\\pandas\\core\\series.py:1189\u001b[39m, in \u001b[36mSeries._get_with\u001b[39m\u001b[34m(self, key)\u001b[39m\n\u001b[32m   1185\u001b[39m \u001b[38;5;28;01mif\u001b[39;00m key_type == \u001b[33m\"\u001b[39m\u001b[33minteger\u001b[39m\u001b[33m\"\u001b[39m:\n\u001b[32m   1186\u001b[39m     \u001b[38;5;66;03m# We need to decide whether to treat this as a positional indexer\u001b[39;00m\n\u001b[32m   1187\u001b[39m     \u001b[38;5;66;03m#  (i.e. self.iloc) or label-based (i.e. self.loc)\u001b[39;00m\n\u001b[32m   1188\u001b[39m     \u001b[38;5;28;01mif\u001b[39;00m \u001b[38;5;129;01mnot\u001b[39;00m \u001b[38;5;28mself\u001b[39m.index._should_fallback_to_positional:\n\u001b[32m-> \u001b[39m\u001b[32m1189\u001b[39m         \u001b[38;5;28;01mreturn\u001b[39;00m \u001b[38;5;28;43mself\u001b[39;49m\u001b[43m.\u001b[49m\u001b[43mloc\u001b[49m\u001b[43m[\u001b[49m\u001b[43mkey\u001b[49m\u001b[43m]\u001b[49m\n\u001b[32m   1190\u001b[39m     \u001b[38;5;28;01melse\u001b[39;00m:\n\u001b[32m   1191\u001b[39m         warnings.warn(\n\u001b[32m   1192\u001b[39m             \u001b[38;5;66;03m# GH#50617\u001b[39;00m\n\u001b[32m   1193\u001b[39m             \u001b[33m\"\u001b[39m\u001b[33mSeries.__getitem__ treating keys as positions is deprecated. \u001b[39m\u001b[33m\"\u001b[39m\n\u001b[32m   (...)\u001b[39m\u001b[32m   1198\u001b[39m             stacklevel=find_stack_level(),\n\u001b[32m   1199\u001b[39m         )\n",
      "\u001b[36mFile \u001b[39m\u001b[32mD:\\python\\Lib\\site-packages\\pandas\\core\\indexing.py:1191\u001b[39m, in \u001b[36m_LocationIndexer.__getitem__\u001b[39m\u001b[34m(self, key)\u001b[39m\n\u001b[32m   1189\u001b[39m maybe_callable = com.apply_if_callable(key, \u001b[38;5;28mself\u001b[39m.obj)\n\u001b[32m   1190\u001b[39m maybe_callable = \u001b[38;5;28mself\u001b[39m._check_deprecated_callable_usage(key, maybe_callable)\n\u001b[32m-> \u001b[39m\u001b[32m1191\u001b[39m \u001b[38;5;28;01mreturn\u001b[39;00m \u001b[38;5;28;43mself\u001b[39;49m\u001b[43m.\u001b[49m\u001b[43m_getitem_axis\u001b[49m\u001b[43m(\u001b[49m\u001b[43mmaybe_callable\u001b[49m\u001b[43m,\u001b[49m\u001b[43m \u001b[49m\u001b[43maxis\u001b[49m\u001b[43m=\u001b[49m\u001b[43maxis\u001b[49m\u001b[43m)\u001b[49m\n",
      "\u001b[36mFile \u001b[39m\u001b[32mD:\\python\\Lib\\site-packages\\pandas\\core\\indexing.py:1420\u001b[39m, in \u001b[36m_LocIndexer._getitem_axis\u001b[39m\u001b[34m(self, key, axis)\u001b[39m\n\u001b[32m   1417\u001b[39m     \u001b[38;5;28;01mif\u001b[39;00m \u001b[38;5;28mhasattr\u001b[39m(key, \u001b[33m\"\u001b[39m\u001b[33mndim\u001b[39m\u001b[33m\"\u001b[39m) \u001b[38;5;129;01mand\u001b[39;00m key.ndim > \u001b[32m1\u001b[39m:\n\u001b[32m   1418\u001b[39m         \u001b[38;5;28;01mraise\u001b[39;00m \u001b[38;5;167;01mValueError\u001b[39;00m(\u001b[33m\"\u001b[39m\u001b[33mCannot index with multidimensional key\u001b[39m\u001b[33m\"\u001b[39m)\n\u001b[32m-> \u001b[39m\u001b[32m1420\u001b[39m     \u001b[38;5;28;01mreturn\u001b[39;00m \u001b[38;5;28;43mself\u001b[39;49m\u001b[43m.\u001b[49m\u001b[43m_getitem_iterable\u001b[49m\u001b[43m(\u001b[49m\u001b[43mkey\u001b[49m\u001b[43m,\u001b[49m\u001b[43m \u001b[49m\u001b[43maxis\u001b[49m\u001b[43m=\u001b[49m\u001b[43maxis\u001b[49m\u001b[43m)\u001b[49m\n\u001b[32m   1422\u001b[39m \u001b[38;5;66;03m# nested tuple slicing\u001b[39;00m\n\u001b[32m   1423\u001b[39m \u001b[38;5;28;01mif\u001b[39;00m is_nested_tuple(key, labels):\n",
      "\u001b[36mFile \u001b[39m\u001b[32mD:\\python\\Lib\\site-packages\\pandas\\core\\indexing.py:1360\u001b[39m, in \u001b[36m_LocIndexer._getitem_iterable\u001b[39m\u001b[34m(self, key, axis)\u001b[39m\n\u001b[32m   1357\u001b[39m \u001b[38;5;28mself\u001b[39m._validate_key(key, axis)\n\u001b[32m   1359\u001b[39m \u001b[38;5;66;03m# A collection of keys\u001b[39;00m\n\u001b[32m-> \u001b[39m\u001b[32m1360\u001b[39m keyarr, indexer = \u001b[38;5;28;43mself\u001b[39;49m\u001b[43m.\u001b[49m\u001b[43m_get_listlike_indexer\u001b[49m\u001b[43m(\u001b[49m\u001b[43mkey\u001b[49m\u001b[43m,\u001b[49m\u001b[43m \u001b[49m\u001b[43maxis\u001b[49m\u001b[43m)\u001b[49m\n\u001b[32m   1361\u001b[39m \u001b[38;5;28;01mreturn\u001b[39;00m \u001b[38;5;28mself\u001b[39m.obj._reindex_with_indexers(\n\u001b[32m   1362\u001b[39m     {axis: [keyarr, indexer]}, copy=\u001b[38;5;28;01mTrue\u001b[39;00m, allow_dups=\u001b[38;5;28;01mTrue\u001b[39;00m\n\u001b[32m   1363\u001b[39m )\n",
      "\u001b[36mFile \u001b[39m\u001b[32mD:\\python\\Lib\\site-packages\\pandas\\core\\indexing.py:1558\u001b[39m, in \u001b[36m_LocIndexer._get_listlike_indexer\u001b[39m\u001b[34m(self, key, axis)\u001b[39m\n\u001b[32m   1555\u001b[39m ax = \u001b[38;5;28mself\u001b[39m.obj._get_axis(axis)\n\u001b[32m   1556\u001b[39m axis_name = \u001b[38;5;28mself\u001b[39m.obj._get_axis_name(axis)\n\u001b[32m-> \u001b[39m\u001b[32m1558\u001b[39m keyarr, indexer = \u001b[43max\u001b[49m\u001b[43m.\u001b[49m\u001b[43m_get_indexer_strict\u001b[49m\u001b[43m(\u001b[49m\u001b[43mkey\u001b[49m\u001b[43m,\u001b[49m\u001b[43m \u001b[49m\u001b[43maxis_name\u001b[49m\u001b[43m)\u001b[49m\n\u001b[32m   1560\u001b[39m \u001b[38;5;28;01mreturn\u001b[39;00m keyarr, indexer\n",
      "\u001b[36mFile \u001b[39m\u001b[32mD:\\python\\Lib\\site-packages\\pandas\\core\\indexes\\base.py:6212\u001b[39m, in \u001b[36mIndex._get_indexer_strict\u001b[39m\u001b[34m(self, key, axis_name)\u001b[39m\n\u001b[32m   6209\u001b[39m \u001b[38;5;28;01melse\u001b[39;00m:\n\u001b[32m   6210\u001b[39m     keyarr, indexer, new_indexer = \u001b[38;5;28mself\u001b[39m._reindex_non_unique(keyarr)\n\u001b[32m-> \u001b[39m\u001b[32m6212\u001b[39m \u001b[38;5;28;43mself\u001b[39;49m\u001b[43m.\u001b[49m\u001b[43m_raise_if_missing\u001b[49m\u001b[43m(\u001b[49m\u001b[43mkeyarr\u001b[49m\u001b[43m,\u001b[49m\u001b[43m \u001b[49m\u001b[43mindexer\u001b[49m\u001b[43m,\u001b[49m\u001b[43m \u001b[49m\u001b[43maxis_name\u001b[49m\u001b[43m)\u001b[49m\n\u001b[32m   6214\u001b[39m keyarr = \u001b[38;5;28mself\u001b[39m.take(indexer)\n\u001b[32m   6215\u001b[39m \u001b[38;5;28;01mif\u001b[39;00m \u001b[38;5;28misinstance\u001b[39m(key, Index):\n\u001b[32m   6216\u001b[39m     \u001b[38;5;66;03m# GH 42790 - Preserve name from an Index\u001b[39;00m\n",
      "\u001b[36mFile \u001b[39m\u001b[32mD:\\python\\Lib\\site-packages\\pandas\\core\\indexes\\base.py:6264\u001b[39m, in \u001b[36mIndex._raise_if_missing\u001b[39m\u001b[34m(self, key, indexer, axis_name)\u001b[39m\n\u001b[32m   6261\u001b[39m     \u001b[38;5;28;01mraise\u001b[39;00m \u001b[38;5;167;01mKeyError\u001b[39;00m(\u001b[33mf\u001b[39m\u001b[33m\"\u001b[39m\u001b[33mNone of [\u001b[39m\u001b[38;5;132;01m{\u001b[39;00mkey\u001b[38;5;132;01m}\u001b[39;00m\u001b[33m] are in the [\u001b[39m\u001b[38;5;132;01m{\u001b[39;00maxis_name\u001b[38;5;132;01m}\u001b[39;00m\u001b[33m]\u001b[39m\u001b[33m\"\u001b[39m)\n\u001b[32m   6263\u001b[39m not_found = \u001b[38;5;28mlist\u001b[39m(ensure_index(key)[missing_mask.nonzero()[\u001b[32m0\u001b[39m]].unique())\n\u001b[32m-> \u001b[39m\u001b[32m6264\u001b[39m \u001b[38;5;28;01mraise\u001b[39;00m \u001b[38;5;167;01mKeyError\u001b[39;00m(\u001b[33mf\u001b[39m\u001b[33m\"\u001b[39m\u001b[38;5;132;01m{\u001b[39;00mnot_found\u001b[38;5;132;01m}\u001b[39;00m\u001b[33m not in index\u001b[39m\u001b[33m\"\u001b[39m)\n",
      "\u001b[31mKeyError\u001b[39m: '[6, 9, 10, 12, 27, 30, 35, 37, 41, 48, 51, 53, 58, 62, 67, 75, 76, 78, 80, 83, 87, 88, 91, 98, 99, 104, 108, 115, 125, 126, 131, 133, 134, 135, 139, 140, 142, 156, 158, 159, 163, 165, 167, 169, 177, 180, 186, 188, 190, 191, 198, 200, 204, 207, 208, 211, 215, 220, 226, 227, 228, 231, 234, 236, 237, 239, 250, 258, 259, 260, 264, 267, 268, 270, 274, 275, 280, 283, 284, 288, 292, 299, 302, 303, 304, 306, 310, 311, 315, 321, 323, 325, 329, 330, 331, 335, 336, 345, 347, 348, 349, 350, 351, 375, 382, 383, 386, 390, 392, 393, 395, 399, 400, 401, 403, 404, 407, 409, 414, 418, 419, 421, 424, 426, 432, 442, 452, 453, 460, 462, 471, 473, 478, 480, 481, 487, 490, 491, 495, 503, 509, 512, 520, 521, 525, 527, 528, 529, 531, 534, 535, 536, 537, 538, 541, 547, 553, 556, 559, 561, 571, 572, 573, 575, 577, 579, 581, 584, 587, 593, 597, 598, 599, 614, 620, 622, 628, 632, 638, 639, 647, 653, 654, 659, 660, 661, 663, 664, 674, 675, 679, 680, 693, 694, 697, 708, 709, 713, 718, 720, 724, 725, 729, 731, 735, 736, 737, 742, 745, 746, 748, 752, 754, 755, 757, 763, 764, 765, 767, 768, 771, 772, 776, 777, 778, 782, 785, 786, 798, 809, 810, 812, 815, 819, 820, 821, 823, 824, 826, 827, 830, 833, 841, 845, 846, 851, 852, 853, 855, 859, 860, 864, 867, 872, 876] not in index'"
     ]
    }
   ],
   "source": [
    "print(\"\\n🔹 Performing 5-Fold CV for Hyperparameter Tuning\")\n",
    "\n",
    "C_values = [0.000001, 0.001, 1]\n",
    "kfold = KFold(n_splits=5, shuffle=True, random_state=1)\n",
    "\n",
    "results = []\n",
    "\n",
    "for C in C_values:\n",
    "    print(f\"\\n===== Testing C = {C} =====\")\n",
    "    aucs = []\n",
    "    \n",
    "    for fold, (train_idx, val_idx) in enumerate(kfold.split(X_train_encoded), 1):\n",
    "        X_t, X_v = X_train_encoded[train_idx], X_train_encoded[val_idx]\n",
    "        y_t, y_v = y_train[train_idx], y_train[val_idx]\n",
    "        \n",
    "        model = LogisticRegression(solver='liblinear', C=C, max_iter=1000)\n",
    "        model.fit(X_t, y_t)\n",
    "        y_pred = model.predict_proba(X_v)[:, 1]\n",
    "        \n",
    "        auc = roc_auc_score(y_v, y_pred)\n",
    "        aucs.append(auc)\n",
    "        print(f\"Fold {fold} AUC: {auc:.3f}\")\n",
    "    \n",
    "    mean_auc = np.mean(aucs)\n",
    "    std_auc = np.std(aucs)\n",
    "    results.append((C, round(mean_auc, 3), round(std_auc, 3)))\n"
   ]
  },
  {
   "cell_type": "code",
   "execution_count": null,
   "id": "252d645e-5e7c-4721-9b42-f09fa46c69c7",
   "metadata": {},
   "outputs": [],
   "source": [
    "print(\"\\n🔹 Summary of Results:\")\n",
    "for C, mean_auc, std_auc in results:\n",
    "    print(f\"C={C:<10} | Mean AUC={mean_auc:.3f} | Std={std_auc:.3f}\")\n",
    "\n",
    "# Find best C\n",
    "sorted_results = sorted(results, key=lambda x: (-x[1], x[2], x[0]))\n",
    "best_C, best_mean, best_std = sorted_results[0]\n",
    "\n",
    "print(f\"\\n🏆 Best C: {best_C}  (Mean AUC={best_mean:.3f}, Std={best_std:.3f})\")"
   ]
  }
 ],
 "metadata": {
  "kernelspec": {
   "display_name": "Python 3 (ipykernel)",
   "language": "python",
   "name": "python3"
  },
  "language_info": {
   "codemirror_mode": {
    "name": "ipython",
    "version": 3
   },
   "file_extension": ".py",
   "mimetype": "text/x-python",
   "name": "python",
   "nbconvert_exporter": "python",
   "pygments_lexer": "ipython3",
   "version": "3.12.0"
  }
 },
 "nbformat": 4,
 "nbformat_minor": 5
}
